{
 "cells": [
  {
   "cell_type": "code",
   "execution_count": 1,
   "id": "32cc2561-a3a2-4b8d-bc33-dd0995dcf246",
   "metadata": {},
   "outputs": [
    {
     "name": "stdout",
     "output_type": "stream",
     "text": [
      "Customer One Items:\n",
      "Lovely Loveseat. Tufted polyester blend on wood. 32 inches high x 40 inches wide x 30 inches deep. Red or white.Luxurious Lamp. Glass and iron. 36 inches tall. Brown with cream shade.\n",
      "Customer One Total:\n",
      "472.736\n"
     ]
    }
   ],
   "source": [
    "lovely_loveseat_description = \"Lovely Loveseat. Tufted polyester blend on wood. 32 inches high x 40 inches wide x 30 inches deep. Red or white.\"\n",
    "\n",
    "lovely_loveseat_price = 254.00\n",
    "\n",
    "stylish_settee_description = \"Stylish Settee. Faux leather on birch. 29.50 inches high x 54.75 inches wide x 28 inches deep. Black.\"\n",
    "stylish_settee_price = 180.50\n",
    "\n",
    "luxurious_lamp_description = \"Luxurious Lamp. Glass and iron. 36 inches tall. Brown with cream shade.\"\n",
    "luxurious_lamp_price = 52.15\n",
    "\n",
    "sales_tax = .088\n",
    "\n",
    "customer_one_total = 0\n",
    "\n",
    "customer_one_total = lovely_loveseat_price\n",
    "\n",
    "customer_one_itemization = \"\"\n",
    "\n",
    "customer_one_itemization = lovely_loveseat_description\n",
    "\n",
    "customer_one_total = customer_one_total + stylish_settee_price\n",
    "\n",
    "customer_one_itemization = customer_one_itemization + luxurious_lamp_description\n",
    "\n",
    "customer_one_tax = customer_one_total * sales_tax\n",
    "\n",
    "customer_one_total = customer_one_total + customer_one_tax\n",
    "\n",
    "print (\"Customer One Items:\")\n",
    "\n",
    "print (customer_one_itemization)\n",
    "\n",
    "print (\"Customer One Total:\")\n",
    "\n",
    "print (customer_one_total)\n"
   ]
  },
  {
   "cell_type": "code",
   "execution_count": null,
   "id": "acbcbfc2-9e9a-4ddb-8d32-909e15c1a035",
   "metadata": {},
   "outputs": [],
   "source": []
  }
 ],
 "metadata": {
  "kernelspec": {
   "display_name": "Python 3",
   "language": "python",
   "name": "python3"
  },
  "language_info": {
   "codemirror_mode": {
    "name": "ipython",
    "version": 3
   },
   "file_extension": ".py",
   "mimetype": "text/x-python",
   "name": "python",
   "nbconvert_exporter": "python",
   "pygments_lexer": "ipython3",
   "version": "3.8.8"
  }
 },
 "nbformat": 4,
 "nbformat_minor": 5
}
