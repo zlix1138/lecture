{
 "cells": [
  {
   "cell_type": "code",
   "execution_count": 1,
   "id": "9bfd8f85-2964-49c3-8d89-f1507301ab9b",
   "metadata": {},
   "outputs": [],
   "source": [
    "hairstyles = [\"bouffant\", \"pixie\", \"dreadlocks\", \"crew\", \"bowl\", \"bob\", \"mohawk\", \"flattop\"]\n",
    "\n",
    "prices = [30, 25, 40, 20, 20, 35, 50, 35]\n",
    "\n",
    "last_week = [2, 3, 5, 8, 4, 4, 6, 2]"
   ]
  },
  {
   "cell_type": "code",
   "execution_count": 2,
   "id": "7216c4cb-aadb-46a7-bb5c-10612bb57dc4",
   "metadata": {},
   "outputs": [
    {
     "name": "stdout",
     "output_type": "stream",
     "text": [
      "255\n",
      "average price is 31.875\n"
     ]
    }
   ],
   "source": [
    "total_price = 0\n",
    "\n",
    "for i in range(len(prices)):\n",
    "    total_price + =prices[i]\n",
    "\n",
    "average_price = total_price/len(prices)\n",
    "\n",
    "print(\"Average price is \", end='')\n",
    "print(average_price)"
   ]
  },
  {
   "cell_type": "code",
   "execution_count": 4,
   "id": "d7d14e66-01a6-43f9-9e53-95ca0613574a",
   "metadata": {},
   "outputs": [
    {
     "name": "stdout",
     "output_type": "stream",
     "text": [
      "[25, 20, 35, 15, 15, 30, 45, 30]\n"
     ]
    }
   ],
   "source": [
    "new_prices = [i-5 for i in prices]\n",
    "\n",
    "print(new_prices)"
   ]
  },
  {
   "cell_type": "code",
   "execution_count": 25,
   "id": "99c78c9a-ee2e-4dc2-8714-34057ab33608",
   "metadata": {},
   "outputs": [
    {
     "name": "stdout",
     "output_type": "stream",
     "text": [
      "Average daily revenue is 155.0\n"
     ]
    }
   ],
   "source": [
    "total_revenue=0\n",
    "\n",
    "for i in range (0, len(hairstyles)):\n",
    "    total_revenue += prices[i] * last_week[i]\n",
    "\n",
    "average_daily_revenue = total_revenue/7\n",
    "\n",
    "print(\"Average daily revenue is \",end='')\n",
    "print(average_daily_revenue)"
   ]
  },
  {
   "cell_type": "code",
   "execution_count": 28,
   "id": "b23f2668-b6cf-4e79-bde5-4f5133b8d341",
   "metadata": {},
   "outputs": [
    {
     "name": "stdout",
     "output_type": "stream",
     "text": [
      "['bouffant', 'pixie', 'crew', 'bowl']\n"
     ]
    }
   ],
   "source": [
    "cut_under_30 = [hairstyles[i] for i in range(0,len(new_prices)-1) if new_prices[i]< 30]\n",
    "\n",
    "print(cut_under_30)"
   ]
  }
 ],
 "metadata": {
  "kernelspec": {
   "display_name": "Python 3",
   "language": "python",
   "name": "python3"
  },
  "language_info": {
   "codemirror_mode": {
    "name": "ipython",
    "version": 3
   },
   "file_extension": ".py",
   "mimetype": "text/x-python",
   "name": "python",
   "nbconvert_exporter": "python",
   "pygments_lexer": "ipython3",
   "version": "3.8.8"
  }
 },
 "nbformat": 4,
 "nbformat_minor": 5
}
